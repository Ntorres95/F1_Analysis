{
 "cells": [
  {
   "cell_type": "code",
   "execution_count": 2,
   "id": "2a7b30dd-568f-49f4-838f-00324351d947",
   "metadata": {},
   "outputs": [],
   "source": [
    "import matplotlib as plt\n",
    "import numpy as np\n",
    "import pandas as pd\n",
    "import os\n",
    "import csv"
   ]
  },
  {
   "cell_type": "code",
   "execution_count": 110,
   "id": "cc24a6a5-ab7c-4d5d-83aa-3b62aaa067af",
   "metadata": {},
   "outputs": [],
   "source": [
    "# Declare the file path for the circuits CSV\n",
    "circuits_file_path = '/Users/noetorres/Desktop/archive/circuits.csv'\n",
    "\n",
    "# Import the Circuits data\n",
    "circuits_df = pd.read_csv(circuits_file_path)"
   ]
  },
  {
   "cell_type": "code",
   "execution_count": 112,
   "id": "d5b04d47-19b3-4d33-85d8-8ec77c29c778",
   "metadata": {},
   "outputs": [],
   "source": [
    "# Sanity check / Print the Circuits DF\n",
    "# circuits_df.head(100)"
   ]
  },
  {
   "cell_type": "code",
   "execution_count": 114,
   "id": "85c189a7-b8dd-4fff-a0f3-ebae0f95d910",
   "metadata": {},
   "outputs": [],
   "source": [
    "# Clean up / remove the unneccessary columns\n",
    "circuits_df = circuits_df.drop('url', axis=1)\n",
    "\n",
    "#sanity check\n",
    "# circuits_df.head(100)"
   ]
  },
  {
   "cell_type": "code",
   "execution_count": 8,
   "id": "35f0408b-dc0b-4c4d-ae0f-54f2876edcd0",
   "metadata": {},
   "outputs": [],
   "source": [
    "# Declare the file path for the constructor_results csv\n",
    "constructor_results_file_path = '/Users/noetorres/Desktop/archive/constructor_results.csv'\n",
    "\n",
    "# Import the constructor_results data\n",
    "constructor_results_df = pd.read_csv(constructor_results_file_path)"
   ]
  },
  {
   "cell_type": "code",
   "execution_count": 116,
   "id": "7f1589f2-85bd-4edb-8e56-9933248ef7f9",
   "metadata": {},
   "outputs": [
    {
     "data": {
      "text/html": [
       "<div>\n",
       "<style scoped>\n",
       "    .dataframe tbody tr th:only-of-type {\n",
       "        vertical-align: middle;\n",
       "    }\n",
       "\n",
       "    .dataframe tbody tr th {\n",
       "        vertical-align: top;\n",
       "    }\n",
       "\n",
       "    .dataframe thead th {\n",
       "        text-align: right;\n",
       "    }\n",
       "</style>\n",
       "<table border=\"1\" class=\"dataframe\">\n",
       "  <thead>\n",
       "    <tr style=\"text-align: right;\">\n",
       "      <th></th>\n",
       "      <th>constructorResultsId</th>\n",
       "      <th>raceId</th>\n",
       "      <th>constructorId</th>\n",
       "      <th>points</th>\n",
       "      <th>status</th>\n",
       "    </tr>\n",
       "  </thead>\n",
       "  <tbody>\n",
       "    <tr>\n",
       "      <th>0</th>\n",
       "      <td>1</td>\n",
       "      <td>18</td>\n",
       "      <td>1</td>\n",
       "      <td>14.0</td>\n",
       "      <td>\\N</td>\n",
       "    </tr>\n",
       "    <tr>\n",
       "      <th>1</th>\n",
       "      <td>2</td>\n",
       "      <td>18</td>\n",
       "      <td>2</td>\n",
       "      <td>8.0</td>\n",
       "      <td>\\N</td>\n",
       "    </tr>\n",
       "    <tr>\n",
       "      <th>2</th>\n",
       "      <td>3</td>\n",
       "      <td>18</td>\n",
       "      <td>3</td>\n",
       "      <td>9.0</td>\n",
       "      <td>\\N</td>\n",
       "    </tr>\n",
       "    <tr>\n",
       "      <th>3</th>\n",
       "      <td>4</td>\n",
       "      <td>18</td>\n",
       "      <td>4</td>\n",
       "      <td>5.0</td>\n",
       "      <td>\\N</td>\n",
       "    </tr>\n",
       "    <tr>\n",
       "      <th>4</th>\n",
       "      <td>5</td>\n",
       "      <td>18</td>\n",
       "      <td>5</td>\n",
       "      <td>2.0</td>\n",
       "      <td>\\N</td>\n",
       "    </tr>\n",
       "    <tr>\n",
       "      <th>...</th>\n",
       "      <td>...</td>\n",
       "      <td>...</td>\n",
       "      <td>...</td>\n",
       "      <td>...</td>\n",
       "      <td>...</td>\n",
       "    </tr>\n",
       "    <tr>\n",
       "      <th>95</th>\n",
       "      <td>96</td>\n",
       "      <td>27</td>\n",
       "      <td>4</td>\n",
       "      <td>8.0</td>\n",
       "      <td>\\N</td>\n",
       "    </tr>\n",
       "    <tr>\n",
       "      <th>96</th>\n",
       "      <td>97</td>\n",
       "      <td>27</td>\n",
       "      <td>6</td>\n",
       "      <td>9.0</td>\n",
       "      <td>\\N</td>\n",
       "    </tr>\n",
       "    <tr>\n",
       "      <th>97</th>\n",
       "      <td>98</td>\n",
       "      <td>27</td>\n",
       "      <td>2</td>\n",
       "      <td>7.0</td>\n",
       "      <td>\\N</td>\n",
       "    </tr>\n",
       "    <tr>\n",
       "      <th>98</th>\n",
       "      <td>99</td>\n",
       "      <td>27</td>\n",
       "      <td>5</td>\n",
       "      <td>1.0</td>\n",
       "      <td>\\N</td>\n",
       "    </tr>\n",
       "    <tr>\n",
       "      <th>99</th>\n",
       "      <td>100</td>\n",
       "      <td>27</td>\n",
       "      <td>7</td>\n",
       "      <td>0.0</td>\n",
       "      <td>\\N</td>\n",
       "    </tr>\n",
       "  </tbody>\n",
       "</table>\n",
       "<p>100 rows × 5 columns</p>\n",
       "</div>"
      ],
      "text/plain": [
       "    constructorResultsId  raceId  constructorId  points status\n",
       "0                      1      18              1    14.0     \\N\n",
       "1                      2      18              2     8.0     \\N\n",
       "2                      3      18              3     9.0     \\N\n",
       "3                      4      18              4     5.0     \\N\n",
       "4                      5      18              5     2.0     \\N\n",
       "..                   ...     ...            ...     ...    ...\n",
       "95                    96      27              4     8.0     \\N\n",
       "96                    97      27              6     9.0     \\N\n",
       "97                    98      27              2     7.0     \\N\n",
       "98                    99      27              5     1.0     \\N\n",
       "99                   100      27              7     0.0     \\N\n",
       "\n",
       "[100 rows x 5 columns]"
      ]
     },
     "execution_count": 116,
     "metadata": {},
     "output_type": "execute_result"
    }
   ],
   "source": [
    "# Sanity check / Print the constructor results DF\n",
    "constructor_results_df.head(100)"
   ]
  },
  {
   "cell_type": "code",
   "execution_count": 12,
   "id": "f50ece36-1678-48e7-9044-c988585f4be1",
   "metadata": {},
   "outputs": [],
   "source": [
    "# Declare the file path for the constructor_standings CSV\n",
    "constructor_standings_file_path = '/Users/noetorres/Desktop/archive/constructor_standings.csv'\n",
    "\n",
    "# Import the constructor_standings data\n",
    "constructor_standings_df = pd.read_csv(constructor_standings_file_path)"
   ]
  },
  {
   "cell_type": "code",
   "execution_count": 14,
   "id": "90c8cfed-19ac-465c-bcbc-2f69a7510add",
   "metadata": {},
   "outputs": [],
   "source": [
    "# Sanity check / Print the constructor standings DF\n",
    "# constructor_standings_df.head()"
   ]
  },
  {
   "cell_type": "code",
   "execution_count": 16,
   "id": "9620df4a-bfd3-474a-b860-d2a94b22fbba",
   "metadata": {},
   "outputs": [],
   "source": [
    "# Declare the file path for the constructors CSV\n",
    "constructors_file_path = '/Users/noetorres/Desktop/archive/constructors.csv'\n",
    "\n",
    "# Import the constructors data\n",
    "constructors_df = pd.read_csv(constructors_file_path)"
   ]
  },
  {
   "cell_type": "code",
   "execution_count": 18,
   "id": "f9b7c995-5e56-4707-aadb-aaf757754c61",
   "metadata": {},
   "outputs": [],
   "source": [
    "# Sanity check / Print the constructor standings DF\n",
    "# constructors_df.head()"
   ]
  },
  {
   "cell_type": "code",
   "execution_count": 20,
   "id": "fc5b291d-e31a-49ad-9101-96ac895696d0",
   "metadata": {},
   "outputs": [],
   "source": [
    "# Declare the file path for the driver_standings CSV\n",
    "driver_standings_file_path = '/Users/noetorres/Desktop/archive/driver_standings.csv'\n",
    "\n",
    "# Import the driver_standings data\n",
    "driver_standings_df = pd.read_csv(driver_standings_file_path)"
   ]
  },
  {
   "cell_type": "code",
   "execution_count": 22,
   "id": "3f81b766-c94a-47f3-a955-190a0e3579c5",
   "metadata": {},
   "outputs": [],
   "source": [
    "# Sanity check / Print the driver_standings DF\n",
    "# driver_standings_df.head()"
   ]
  },
  {
   "cell_type": "code",
   "execution_count": 24,
   "id": "1727b160-4aad-44e7-8f5f-83bbbbcdbff0",
   "metadata": {},
   "outputs": [],
   "source": [
    "# Declare the file path for the drivers CSV\n",
    "drivers_file_path = '/Users/noetorres/Desktop/archive/drivers.csv'\n",
    "\n",
    "# Import the drivers data\n",
    "drivers_df = pd.read_csv(drivers_file_path)"
   ]
  },
  {
   "cell_type": "code",
   "execution_count": 26,
   "id": "33eb0fe1-64ab-4e23-9845-549bc6f866a6",
   "metadata": {},
   "outputs": [],
   "source": [
    "# Sanity check / Print the drivers DF\n",
    "# drivers_df.head()"
   ]
  },
  {
   "cell_type": "code",
   "execution_count": 28,
   "id": "aa5e8284-f05f-441f-985c-c1e1f811352e",
   "metadata": {},
   "outputs": [],
   "source": [
    "# Declare the file path for the lap_times CSV\n",
    "lap_times_file_path = '/Users/noetorres/Desktop/archive/lap_times.csv'\n",
    "\n",
    "# Import the lap_times data\n",
    "lap_times_df = pd.read_csv(lap_times_file_path)"
   ]
  },
  {
   "cell_type": "code",
   "execution_count": 32,
   "id": "ccc1e53a-6b09-4c19-b251-608f809ea778",
   "metadata": {},
   "outputs": [],
   "source": [
    "# Sanity check / Print the lap_times DF\n",
    "# lap_times_df.head()"
   ]
  },
  {
   "cell_type": "code",
   "execution_count": 34,
   "id": "89006bfc-a845-490a-8532-13dd833e0cb9",
   "metadata": {},
   "outputs": [],
   "source": [
    "# Declare the file path for the pit_stops CSV\n",
    "pit_stops_file_path = '/Users/noetorres/Desktop/archive/pit_stops.csv'\n",
    "\n",
    "# Import the pit_stops data\n",
    "pit_stops_df = pd.read_csv(pit_stops_file_path)"
   ]
  },
  {
   "cell_type": "code",
   "execution_count": 38,
   "id": "2e9efd9f-10d0-4666-a542-2de13493dadd",
   "metadata": {},
   "outputs": [],
   "source": [
    "# Sanity check / Print the pit_stops DF\n",
    "# pit_stops_df.head()"
   ]
  },
  {
   "cell_type": "code",
   "execution_count": 40,
   "id": "193bfe9b-e306-4ac8-bccf-3ae468420433",
   "metadata": {},
   "outputs": [],
   "source": [
    "# Declare the file path for the qualifying CSV\n",
    "qualifying_file_path = '/Users/noetorres/Desktop/archive/qualifying.csv'\n",
    "\n",
    "# Import the qualifying data\n",
    "qualifying_df = pd.read_csv(qualifying_file_path)"
   ]
  },
  {
   "cell_type": "code",
   "execution_count": 44,
   "id": "d535ba52-5da6-4139-9979-942b19ce1834",
   "metadata": {},
   "outputs": [],
   "source": [
    "# Sanity check / Print the qualifying DF\n",
    "# qualifying_df.head()"
   ]
  },
  {
   "cell_type": "code",
   "execution_count": 48,
   "id": "e1357ebf-ee5b-4445-b24d-e2b09b98c0b5",
   "metadata": {},
   "outputs": [],
   "source": [
    "# Declare the file path for the races CSV\n",
    "races_file_path = '/Users/noetorres/Desktop/archive/races.csv'\n",
    "\n",
    "# Import the races data\n",
    "races_df = pd.read_csv(races_file_path)"
   ]
  },
  {
   "cell_type": "code",
   "execution_count": 54,
   "id": "02245640-61cb-4694-9fdf-22dfd521c8f3",
   "metadata": {},
   "outputs": [],
   "source": [
    "# Sanity check / Print the races DF\n",
    "# races_df.head()"
   ]
  },
  {
   "cell_type": "code",
   "execution_count": 58,
   "id": "dda45e6c-721c-4ae1-af3b-ac820f9afc31",
   "metadata": {},
   "outputs": [],
   "source": [
    "# Declare the file path for the results CSV\n",
    "results_file_path = '/Users/noetorres/Desktop/archive/results.csv'\n",
    "\n",
    "# Import the results data\n",
    "results_df = pd.read_csv(results_file_path)"
   ]
  },
  {
   "cell_type": "code",
   "execution_count": 62,
   "id": "0b25a6c4-6926-40d8-acbc-2ddf930d22f7",
   "metadata": {},
   "outputs": [],
   "source": [
    "# Sanity check / Print the results DF\n",
    "# results_df.head()"
   ]
  },
  {
   "cell_type": "code",
   "execution_count": 64,
   "id": "09e119a4-9d6e-4e94-b460-c358822d0ba4",
   "metadata": {},
   "outputs": [],
   "source": [
    "# Declare the file path for the seasons CSV\n",
    "seasons_file_path = '/Users/noetorres/Desktop/archive/seasons.csv'\n",
    "\n",
    "# Import the seasons data\n",
    "seasons_df = pd.read_csv(seasons_file_path)"
   ]
  },
  {
   "cell_type": "code",
   "execution_count": 68,
   "id": "2532da39-b592-4351-959a-921e1c75d2e1",
   "metadata": {},
   "outputs": [],
   "source": [
    "# Sanity check / Print the seasons DF\n",
    "# seasons_df.head()"
   ]
  },
  {
   "cell_type": "code",
   "execution_count": 70,
   "id": "4b2933ac-93ee-4c52-a483-a5da957f7259",
   "metadata": {},
   "outputs": [],
   "source": [
    "# Declare the file path for the sprint_results CSV\n",
    "sprint_results_file_path = '/Users/noetorres/Desktop/archive/sprint_results.csv'\n",
    "\n",
    "# Import the sprint_results data\n",
    "sprint_results_df = pd.read_csv(sprint_results_file_path)"
   ]
  },
  {
   "cell_type": "code",
   "execution_count": 74,
   "id": "6d570eb3-1b06-4d05-921b-42714660ab8a",
   "metadata": {},
   "outputs": [],
   "source": [
    "# Sanity check / Print the sprint_results DF\n",
    "# sprint_results_df.head()"
   ]
  },
  {
   "cell_type": "code",
   "execution_count": 76,
   "id": "94991234-4683-4aed-8d0a-f2af9c586f4f",
   "metadata": {},
   "outputs": [],
   "source": [
    "# Declare the file path for the status CSV\n",
    "status_file_path = '/Users/noetorres/Desktop/archive/status.csv'\n",
    "\n",
    "# Import the status data\n",
    "status_df = pd.read_csv(status_file_path)"
   ]
  },
  {
   "cell_type": "code",
   "execution_count": 80,
   "id": "746dda1b-1533-42d9-a7f2-1433e4f00678",
   "metadata": {},
   "outputs": [],
   "source": [
    "# Sanity check / Print the status DF\n",
    "# status_df.head()"
   ]
  },
  {
   "cell_type": "code",
   "execution_count": null,
   "id": "af0ab560-8322-4d09-af91-431a5ecaaf8f",
   "metadata": {},
   "outputs": [],
   "source": []
  }
 ],
 "metadata": {
  "kernelspec": {
   "display_name": "Python 3 (ipykernel)",
   "language": "python",
   "name": "python3"
  },
  "language_info": {
   "codemirror_mode": {
    "name": "ipython",
    "version": 3
   },
   "file_extension": ".py",
   "mimetype": "text/x-python",
   "name": "python",
   "nbconvert_exporter": "python",
   "pygments_lexer": "ipython3",
   "version": "3.12.4"
  }
 },
 "nbformat": 4,
 "nbformat_minor": 5
}
